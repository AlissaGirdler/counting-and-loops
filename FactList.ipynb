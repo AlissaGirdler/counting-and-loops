{
 "cells": [
  {
   "cell_type": "code",
   "execution_count": null,
   "metadata": {},
   "outputs": [],
   "source": [
    "Q1: \"Name the three different types of colors.\"\n",
    "Q1A: \"Primary, secondary, and tertiary.\"\n",
    "\n",
    "Q2: \"List the primary colors.\"\n",
    "Q2A: \"Red, yellow, and blue.\"\n",
    "\n",
    "Q3: \"List the secondary colors.\"\n",
    "Q3A: \"Green, orange, and purple.\"\n",
    "\n",
    "Q4: \"How do you make secondary colors?\"\n",
    "Q4A: \"Combine two primary colors.\"\n",
    "\n",
    "Q5: \"Name the cool primary color.\"\n",
    "Q5A: \"Blue\"\n",
    "\n",
    "Q6: \"Name the warm secondary color.\"\n",
    "Q6A: \"Orange\"\n",
    "\n",
    "Q7: \"What is another name for tertiary colors?\"\n",
    "Q7A: \"Intermediate\"\n",
    "\n",
    "Q8: \"What is the relationship between colors on the opposite side of the color wheel?\"\n",
    "Q8A: \"Complimentary\"\n",
    "\n",
    "Q9: \"Name one measurement of color properties.\"\n",
    "Q9A: \"Saturation\" or \"value\"\n",
    "\n",
    "Q10: \"What color contains all colors?\"\n",
    "Q10A: \"White\"\n",
    "\n",
    "\n",
    "\n"
   ]
  }
 ],
 "metadata": {
  "language_info": {
   "name": "python"
  }
 },
 "nbformat": 4,
 "nbformat_minor": 2
}
